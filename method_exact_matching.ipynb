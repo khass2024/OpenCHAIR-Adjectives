{
  "nbformat": 4,
  "nbformat_minor": 0,
  "metadata": {
    "colab": {
      "provenance": []
    },
    "kernelspec": {
      "name": "python3",
      "display_name": "Python 3"
    },
    "language_info": {
      "name": "python"
    }
  },
  "cells": [
    {
      "cell_type": "code",
      "execution_count": 15,
      "metadata": {
        "colab": {
          "base_uri": "https://localhost:8080/"
        },
        "id": "xsLhLmVY2f2k",
        "outputId": "aaa6a47c-c4db-4f2d-b4e1-76552ac8a858"
      },
      "outputs": [
        {
          "output_type": "stream",
          "name": "stdout",
          "text": [
            "Updated file saved to exact_matching_VIT-GPT2_caption_results.csv\n"
          ]
        }
      ],
      "source": [
        "import pandas as pd\n",
        "import os\n",
        "from ast import literal_eval\n",
        "\n",
        "# Define file paths\n",
        "model = 'VIT-GPT2'\n",
        "data_path = f'method1_{model}_caption_results.csv'\n",
        "output_path = f'exact_matching_{model}_caption_results.csv'\n",
        "\n",
        "# Check if the input file exists\n",
        "if not os.path.exists(data_path):\n",
        "    raise FileNotFoundError(f\"The file '{data_path}' does not exist. Please ensure the file is uploaded correctly.\")\n",
        "\n",
        "# Load the CSV file\n",
        "df = pd.read_csv(data_path)\n",
        "\n",
        "# Step 1: Clear the 'hallucinated' column\n",
        "df['hallucinated'] = None\n",
        "\n",
        "# Step 2: Process each row to check for adjectives in 'original_caption'\n",
        "def check_adjectives(row):\n",
        "    try:\n",
        "        adjectives = literal_eval(row['adjectives'])  # Safely evaluate string to Python list\n",
        "    except (ValueError, SyntaxError):\n",
        "        adjectives = []  # Default to an empty list if parsing fails\n",
        "    original_caption = str(row['original_caption'])\n",
        "\n",
        "    # Create a list of True/False for each adjective\n",
        "    result = [adj.strip() not in original_caption for adj in adjectives]\n",
        "    return result\n",
        "\n",
        "df['hallucinated'] = df.apply(check_adjectives, axis=1)\n",
        "\n",
        "# Save the updated DataFrame to a new CSV file\n",
        "df.to_csv(output_path, index=False)\n",
        "\n",
        "print(f\"Updated file saved to {output_path}\")\n"
      ]
    },
    {
      "cell_type": "code",
      "source": [],
      "metadata": {
        "id": "oAw9_1ml2wEx"
      },
      "execution_count": null,
      "outputs": []
    }
  ]
}