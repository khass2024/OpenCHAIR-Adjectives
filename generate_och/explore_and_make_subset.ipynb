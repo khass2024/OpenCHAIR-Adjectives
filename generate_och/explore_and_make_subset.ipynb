{
 "cells": [
  {
   "cell_type": "code",
   "execution_count": 12,
   "id": "43a34c2d-fd60-4fce-bd08-9777d26a1390",
   "metadata": {
    "tags": []
   },
   "outputs": [],
   "source": [
    "import pandas as pd\n",
    "import sqlite3\n",
    "import numpy as np\n",
    "from tqdm.auto import tqdm\n",
    "import spacy\n",
    "import spacy_transformers\n",
    "import spacy_curated_transformers\n",
    "from functools import lru_cache\n",
    "from collections import Counter"
   ]
  },
  {
   "cell_type": "code",
   "execution_count": 21,
   "id": "6a15452a",
   "metadata": {},
   "outputs": [
    {
     "name": "stdout",
     "output_type": "stream",
     "text": [
      "/home/assaf/.local/lib/python3.10/site-packages/transformers/utils/generic.py:441: UserWarning: torch.utils._pytree._register_pytree_node is deprecated. Please use torch.utils._pytree.register_pytree_node instead.\n",
      "  _torch_pytree._register_pytree_node(\n",
      "Defaulting to user installation because normal site-packages is not writeable\n",
      "Collecting en-core-web-trf==3.7.3\n",
      "  Downloading https://github.com/explosion/spacy-models/releases/download/en_core_web_trf-3.7.3/en_core_web_trf-3.7.3-py3-none-any.whl (457.4 MB)\n",
      "\u001b[2K     \u001b[90m━━━━━━━━━━━━━━━━━━━━━━━━━━━━━━━━━━━━━━━\u001b[0m \u001b[32m457.4/457.4 MB\u001b[0m \u001b[31m3.1 MB/s\u001b[0m eta \u001b[36m0:00:00\u001b[0m00:01\u001b[0m00:02\u001b[0m\n",
      "\u001b[?25hRequirement already satisfied: spacy<3.8.0,>=3.7.2 in /opt/miniconda3/envs/mocha/lib/python3.10/site-packages (from en-core-web-trf==3.7.3) (3.7.2)\n",
      "Requirement already satisfied: spacy-curated-transformers<0.3.0,>=0.2.0 in /home/assaf/.local/lib/python3.10/site-packages (from en-core-web-trf==3.7.3) (0.2.2)\n",
      "Requirement already satisfied: spacy-legacy<3.1.0,>=3.0.11 in /opt/miniconda3/envs/mocha/lib/python3.10/site-packages (from spacy<3.8.0,>=3.7.2->en-core-web-trf==3.7.3) (3.0.12)\n",
      "Requirement already satisfied: spacy-loggers<2.0.0,>=1.0.0 in /opt/miniconda3/envs/mocha/lib/python3.10/site-packages (from spacy<3.8.0,>=3.7.2->en-core-web-trf==3.7.3) (1.0.5)\n",
      "Requirement already satisfied: murmurhash<1.1.0,>=0.28.0 in /opt/miniconda3/envs/mocha/lib/python3.10/site-packages (from spacy<3.8.0,>=3.7.2->en-core-web-trf==3.7.3) (1.0.10)\n",
      "Requirement already satisfied: cymem<2.1.0,>=2.0.2 in /opt/miniconda3/envs/mocha/lib/python3.10/site-packages (from spacy<3.8.0,>=3.7.2->en-core-web-trf==3.7.3) (2.0.8)\n",
      "Requirement already satisfied: preshed<3.1.0,>=3.0.2 in /opt/miniconda3/envs/mocha/lib/python3.10/site-packages (from spacy<3.8.0,>=3.7.2->en-core-web-trf==3.7.3) (3.0.9)\n",
      "Requirement already satisfied: thinc<8.3.0,>=8.1.8 in /opt/miniconda3/envs/mocha/lib/python3.10/site-packages (from spacy<3.8.0,>=3.7.2->en-core-web-trf==3.7.3) (8.2.2)\n",
      "Requirement already satisfied: wasabi<1.2.0,>=0.9.1 in /opt/miniconda3/envs/mocha/lib/python3.10/site-packages (from spacy<3.8.0,>=3.7.2->en-core-web-trf==3.7.3) (1.1.2)\n",
      "Requirement already satisfied: srsly<3.0.0,>=2.4.3 in /opt/miniconda3/envs/mocha/lib/python3.10/site-packages (from spacy<3.8.0,>=3.7.2->en-core-web-trf==3.7.3) (2.4.8)\n",
      "Requirement already satisfied: catalogue<2.1.0,>=2.0.6 in /opt/miniconda3/envs/mocha/lib/python3.10/site-packages (from spacy<3.8.0,>=3.7.2->en-core-web-trf==3.7.3) (2.0.10)\n",
      "Requirement already satisfied: weasel<0.4.0,>=0.1.0 in /opt/miniconda3/envs/mocha/lib/python3.10/site-packages (from spacy<3.8.0,>=3.7.2->en-core-web-trf==3.7.3) (0.3.4)\n",
      "Requirement already satisfied: typer<0.10.0,>=0.3.0 in /opt/miniconda3/envs/mocha/lib/python3.10/site-packages (from spacy<3.8.0,>=3.7.2->en-core-web-trf==3.7.3) (0.9.0)\n",
      "Requirement already satisfied: smart-open<7.0.0,>=5.2.1 in /opt/miniconda3/envs/mocha/lib/python3.10/site-packages (from spacy<3.8.0,>=3.7.2->en-core-web-trf==3.7.3) (6.4.0)\n",
      "Requirement already satisfied: tqdm<5.0.0,>=4.38.0 in /opt/miniconda3/envs/mocha/lib/python3.10/site-packages (from spacy<3.8.0,>=3.7.2->en-core-web-trf==3.7.3) (4.66.1)\n",
      "Requirement already satisfied: requests<3.0.0,>=2.13.0 in /opt/miniconda3/envs/mocha/lib/python3.10/site-packages (from spacy<3.8.0,>=3.7.2->en-core-web-trf==3.7.3) (2.31.0)\n",
      "Requirement already satisfied: pydantic!=1.8,!=1.8.1,<3.0.0,>=1.7.4 in /opt/miniconda3/envs/mocha/lib/python3.10/site-packages (from spacy<3.8.0,>=3.7.2->en-core-web-trf==3.7.3) (2.5.2)\n",
      "Requirement already satisfied: jinja2 in /opt/miniconda3/envs/mocha/lib/python3.10/site-packages (from spacy<3.8.0,>=3.7.2->en-core-web-trf==3.7.3) (3.1.2)\n",
      "Requirement already satisfied: setuptools in /opt/miniconda3/envs/mocha/lib/python3.10/site-packages (from spacy<3.8.0,>=3.7.2->en-core-web-trf==3.7.3) (68.2.2)\n",
      "Requirement already satisfied: packaging>=20.0 in /opt/miniconda3/envs/mocha/lib/python3.10/site-packages (from spacy<3.8.0,>=3.7.2->en-core-web-trf==3.7.3) (23.2)\n",
      "Requirement already satisfied: langcodes<4.0.0,>=3.2.0 in /opt/miniconda3/envs/mocha/lib/python3.10/site-packages (from spacy<3.8.0,>=3.7.2->en-core-web-trf==3.7.3) (3.3.0)\n",
      "Requirement already satisfied: numpy>=1.19.0 in /opt/miniconda3/envs/mocha/lib/python3.10/site-packages (from spacy<3.8.0,>=3.7.2->en-core-web-trf==3.7.3) (1.26.2)\n",
      "Requirement already satisfied: curated-transformers<0.2.0,>=0.1.0 in /home/assaf/.local/lib/python3.10/site-packages (from spacy-curated-transformers<0.3.0,>=0.2.0->en-core-web-trf==3.7.3) (0.1.1)\n",
      "Requirement already satisfied: curated-tokenizers<0.1.0,>=0.0.9 in /home/assaf/.local/lib/python3.10/site-packages (from spacy-curated-transformers<0.3.0,>=0.2.0->en-core-web-trf==3.7.3) (0.0.9)\n",
      "Requirement already satisfied: torch>=1.12.0 in /opt/miniconda3/envs/mocha/lib/python3.10/site-packages (from spacy-curated-transformers<0.3.0,>=0.2.0->en-core-web-trf==3.7.3) (2.1.2)\n",
      "Requirement already satisfied: regex>=2022 in /opt/miniconda3/envs/mocha/lib/python3.10/site-packages (from curated-tokenizers<0.1.0,>=0.0.9->spacy-curated-transformers<0.3.0,>=0.2.0->en-core-web-trf==3.7.3) (2023.10.3)\n",
      "Requirement already satisfied: annotated-types>=0.4.0 in /opt/miniconda3/envs/mocha/lib/python3.10/site-packages (from pydantic!=1.8,!=1.8.1,<3.0.0,>=1.7.4->spacy<3.8.0,>=3.7.2->en-core-web-trf==3.7.3) (0.6.0)\n",
      "Requirement already satisfied: pydantic-core==2.14.5 in /opt/miniconda3/envs/mocha/lib/python3.10/site-packages (from pydantic!=1.8,!=1.8.1,<3.0.0,>=1.7.4->spacy<3.8.0,>=3.7.2->en-core-web-trf==3.7.3) (2.14.5)\n",
      "Requirement already satisfied: typing-extensions>=4.6.1 in /home/assaf/.local/lib/python3.10/site-packages (from pydantic!=1.8,!=1.8.1,<3.0.0,>=1.7.4->spacy<3.8.0,>=3.7.2->en-core-web-trf==3.7.3) (4.9.0)\n",
      "Requirement already satisfied: charset-normalizer<4,>=2 in /opt/miniconda3/envs/mocha/lib/python3.10/site-packages (from requests<3.0.0,>=2.13.0->spacy<3.8.0,>=3.7.2->en-core-web-trf==3.7.3) (3.0.0)\n",
      "Requirement already satisfied: idna<4,>=2.5 in /opt/miniconda3/envs/mocha/lib/python3.10/site-packages (from requests<3.0.0,>=2.13.0->spacy<3.8.0,>=3.7.2->en-core-web-trf==3.7.3) (3.4)\n",
      "Requirement already satisfied: urllib3<3,>=1.21.1 in /opt/miniconda3/envs/mocha/lib/python3.10/site-packages (from requests<3.0.0,>=2.13.0->spacy<3.8.0,>=3.7.2->en-core-web-trf==3.7.3) (2.1.0)\n",
      "Requirement already satisfied: certifi>=2017.4.17 in /opt/miniconda3/envs/mocha/lib/python3.10/site-packages (from requests<3.0.0,>=2.13.0->spacy<3.8.0,>=3.7.2->en-core-web-trf==3.7.3) (2023.11.17)\n",
      "Requirement already satisfied: blis<0.8.0,>=0.7.8 in /opt/miniconda3/envs/mocha/lib/python3.10/site-packages (from thinc<8.3.0,>=8.1.8->spacy<3.8.0,>=3.7.2->en-core-web-trf==3.7.3) (0.7.11)\n",
      "Requirement already satisfied: confection<1.0.0,>=0.0.1 in /opt/miniconda3/envs/mocha/lib/python3.10/site-packages (from thinc<8.3.0,>=8.1.8->spacy<3.8.0,>=3.7.2->en-core-web-trf==3.7.3) (0.1.4)\n",
      "Requirement already satisfied: filelock in /home/assaf/.local/lib/python3.10/site-packages (from torch>=1.12.0->spacy-curated-transformers<0.3.0,>=0.2.0->en-core-web-trf==3.7.3) (3.13.1)\n",
      "Requirement already satisfied: sympy in /home/assaf/.local/lib/python3.10/site-packages (from torch>=1.12.0->spacy-curated-transformers<0.3.0,>=0.2.0->en-core-web-trf==3.7.3) (1.12)\n",
      "Requirement already satisfied: networkx in /home/assaf/.local/lib/python3.10/site-packages (from torch>=1.12.0->spacy-curated-transformers<0.3.0,>=0.2.0->en-core-web-trf==3.7.3) (3.2.1)\n",
      "Requirement already satisfied: fsspec in /opt/miniconda3/envs/mocha/lib/python3.10/site-packages (from torch>=1.12.0->spacy-curated-transformers<0.3.0,>=0.2.0->en-core-web-trf==3.7.3) (2023.10.0)\n",
      "Requirement already satisfied: nvidia-cuda-nvrtc-cu12==12.1.105 in /home/assaf/.local/lib/python3.10/site-packages (from torch>=1.12.0->spacy-curated-transformers<0.3.0,>=0.2.0->en-core-web-trf==3.7.3) (12.1.105)\n",
      "Requirement already satisfied: nvidia-cuda-runtime-cu12==12.1.105 in /home/assaf/.local/lib/python3.10/site-packages (from torch>=1.12.0->spacy-curated-transformers<0.3.0,>=0.2.0->en-core-web-trf==3.7.3) (12.1.105)\n",
      "Requirement already satisfied: nvidia-cuda-cupti-cu12==12.1.105 in /home/assaf/.local/lib/python3.10/site-packages (from torch>=1.12.0->spacy-curated-transformers<0.3.0,>=0.2.0->en-core-web-trf==3.7.3) (12.1.105)\n",
      "Requirement already satisfied: nvidia-cudnn-cu12==8.9.2.26 in /home/assaf/.local/lib/python3.10/site-packages (from torch>=1.12.0->spacy-curated-transformers<0.3.0,>=0.2.0->en-core-web-trf==3.7.3) (8.9.2.26)\n",
      "Requirement already satisfied: nvidia-cublas-cu12==12.1.3.1 in /home/assaf/.local/lib/python3.10/site-packages (from torch>=1.12.0->spacy-curated-transformers<0.3.0,>=0.2.0->en-core-web-trf==3.7.3) (12.1.3.1)\n",
      "Requirement already satisfied: nvidia-cufft-cu12==11.0.2.54 in /home/assaf/.local/lib/python3.10/site-packages (from torch>=1.12.0->spacy-curated-transformers<0.3.0,>=0.2.0->en-core-web-trf==3.7.3) (11.0.2.54)\n",
      "Requirement already satisfied: nvidia-curand-cu12==10.3.2.106 in /home/assaf/.local/lib/python3.10/site-packages (from torch>=1.12.0->spacy-curated-transformers<0.3.0,>=0.2.0->en-core-web-trf==3.7.3) (10.3.2.106)\n",
      "Requirement already satisfied: nvidia-cusolver-cu12==11.4.5.107 in /home/assaf/.local/lib/python3.10/site-packages (from torch>=1.12.0->spacy-curated-transformers<0.3.0,>=0.2.0->en-core-web-trf==3.7.3) (11.4.5.107)\n",
      "Requirement already satisfied: nvidia-cusparse-cu12==12.1.0.106 in /home/assaf/.local/lib/python3.10/site-packages (from torch>=1.12.0->spacy-curated-transformers<0.3.0,>=0.2.0->en-core-web-trf==3.7.3) (12.1.0.106)\n",
      "Requirement already satisfied: nvidia-nccl-cu12==2.18.1 in /opt/miniconda3/envs/mocha/lib/python3.10/site-packages (from torch>=1.12.0->spacy-curated-transformers<0.3.0,>=0.2.0->en-core-web-trf==3.7.3) (2.18.1)\n",
      "Requirement already satisfied: nvidia-nvtx-cu12==12.1.105 in /home/assaf/.local/lib/python3.10/site-packages (from torch>=1.12.0->spacy-curated-transformers<0.3.0,>=0.2.0->en-core-web-trf==3.7.3) (12.1.105)\n",
      "Requirement already satisfied: triton==2.1.0 in /opt/miniconda3/envs/mocha/lib/python3.10/site-packages (from torch>=1.12.0->spacy-curated-transformers<0.3.0,>=0.2.0->en-core-web-trf==3.7.3) (2.1.0)\n",
      "Requirement already satisfied: nvidia-nvjitlink-cu12 in /home/assaf/.local/lib/python3.10/site-packages (from nvidia-cusolver-cu12==11.4.5.107->torch>=1.12.0->spacy-curated-transformers<0.3.0,>=0.2.0->en-core-web-trf==3.7.3) (12.3.101)\n",
      "Requirement already satisfied: click<9.0.0,>=7.1.1 in /opt/miniconda3/envs/mocha/lib/python3.10/site-packages (from typer<0.10.0,>=0.3.0->spacy<3.8.0,>=3.7.2->en-core-web-trf==3.7.3) (8.1.7)\n",
      "Requirement already satisfied: cloudpathlib<0.17.0,>=0.7.0 in /opt/miniconda3/envs/mocha/lib/python3.10/site-packages (from weasel<0.4.0,>=0.1.0->spacy<3.8.0,>=3.7.2->en-core-web-trf==3.7.3) (0.16.0)\n",
      "Requirement already satisfied: MarkupSafe>=2.0 in /opt/miniconda3/envs/mocha/lib/python3.10/site-packages (from jinja2->spacy<3.8.0,>=3.7.2->en-core-web-trf==3.7.3) (2.1.3)\n",
      "Requirement already satisfied: mpmath>=0.19 in /home/assaf/.local/lib/python3.10/site-packages (from sympy->torch>=1.12.0->spacy-curated-transformers<0.3.0,>=0.2.0->en-core-web-trf==3.7.3) (1.3.0)\n",
      "\u001b[38;5;2m✔ Download and installation successful\u001b[0m\n",
      "You can now load the package via spacy.load('en_core_web_trf')\n"
     ]
    }
   ],
   "source": [
    "!python -m spacy download en_core_web_trf\n",
    "# !pip install spacy-transformers"
   ]
  },
  {
   "cell_type": "code",
   "execution_count": 22,
   "id": "d83290a7-5299-4166-ab21-02a2feacb699",
   "metadata": {
    "tags": []
   },
   "outputs": [
    {
     "ename": "ValueError",
     "evalue": "[E002] Can't find factory for 'curated_transformer' for language English (en). This usually happens when spaCy calls `nlp.create_pipe` with a custom component name that's not registered on the current language class. If you're using a Transformer, make sure to install 'spacy-transformers'. If you're using a custom component, make sure you've added the decorator `@Language.component` (for function components) or `@Language.factory` (for class components).\n\nAvailable factories: attribute_ruler, tok2vec, merge_noun_chunks, merge_entities, merge_subtokens, token_splitter, doc_cleaner, parser, beam_parser, lemmatizer, trainable_lemmatizer, entity_linker, entity_ruler, tagger, morphologizer, ner, beam_ner, senter, sentencizer, spancat, spancat_singlelabel, span_finder, future_entity_ruler, span_ruler, textcat, textcat_multilabel, en.lemmatizer",
     "output_type": "error",
     "traceback": [
      "\u001b[0;31m---------------------------------------------------------------------------\u001b[0m",
      "\u001b[0;31mValueError\u001b[0m                                Traceback (most recent call last)",
      "Cell \u001b[0;32mIn[22], line 1\u001b[0m\n\u001b[0;32m----> 1\u001b[0m nlp \u001b[39m=\u001b[39m spacy\u001b[39m.\u001b[39;49mload(\u001b[39m\"\u001b[39;49m\u001b[39men_core_web_trf\u001b[39;49m\u001b[39m\"\u001b[39;49m)\n",
      "File \u001b[0;32m/opt/miniconda3/envs/mocha/lib/python3.10/site-packages/spacy/__init__.py:51\u001b[0m, in \u001b[0;36mload\u001b[0;34m(name, vocab, disable, enable, exclude, config)\u001b[0m\n\u001b[1;32m     27\u001b[0m \u001b[39mdef\u001b[39;00m \u001b[39mload\u001b[39m(\n\u001b[1;32m     28\u001b[0m     name: Union[\u001b[39mstr\u001b[39m, Path],\n\u001b[1;32m     29\u001b[0m     \u001b[39m*\u001b[39m,\n\u001b[0;32m   (...)\u001b[0m\n\u001b[1;32m     34\u001b[0m     config: Union[Dict[\u001b[39mstr\u001b[39m, Any], Config] \u001b[39m=\u001b[39m util\u001b[39m.\u001b[39mSimpleFrozenDict(),\n\u001b[1;32m     35\u001b[0m ) \u001b[39m-\u001b[39m\u001b[39m>\u001b[39m Language:\n\u001b[1;32m     36\u001b[0m \u001b[39m    \u001b[39m\u001b[39m\"\"\"Load a spaCy model from an installed package or a local path.\u001b[39;00m\n\u001b[1;32m     37\u001b[0m \n\u001b[1;32m     38\u001b[0m \u001b[39m    name (str): Package name or model path.\u001b[39;00m\n\u001b[0;32m   (...)\u001b[0m\n\u001b[1;32m     49\u001b[0m \u001b[39m    RETURNS (Language): The loaded nlp object.\u001b[39;00m\n\u001b[1;32m     50\u001b[0m \u001b[39m    \"\"\"\u001b[39;00m\n\u001b[0;32m---> 51\u001b[0m     \u001b[39mreturn\u001b[39;00m util\u001b[39m.\u001b[39;49mload_model(\n\u001b[1;32m     52\u001b[0m         name,\n\u001b[1;32m     53\u001b[0m         vocab\u001b[39m=\u001b[39;49mvocab,\n\u001b[1;32m     54\u001b[0m         disable\u001b[39m=\u001b[39;49mdisable,\n\u001b[1;32m     55\u001b[0m         enable\u001b[39m=\u001b[39;49menable,\n\u001b[1;32m     56\u001b[0m         exclude\u001b[39m=\u001b[39;49mexclude,\n\u001b[1;32m     57\u001b[0m         config\u001b[39m=\u001b[39;49mconfig,\n\u001b[1;32m     58\u001b[0m     )\n",
      "File \u001b[0;32m/opt/miniconda3/envs/mocha/lib/python3.10/site-packages/spacy/util.py:465\u001b[0m, in \u001b[0;36mload_model\u001b[0;34m(name, vocab, disable, enable, exclude, config)\u001b[0m\n\u001b[1;32m    463\u001b[0m     \u001b[39mreturn\u001b[39;00m get_lang_class(name\u001b[39m.\u001b[39mreplace(\u001b[39m\"\u001b[39m\u001b[39mblank:\u001b[39m\u001b[39m\"\u001b[39m, \u001b[39m\"\u001b[39m\u001b[39m\"\u001b[39m))()\n\u001b[1;32m    464\u001b[0m \u001b[39mif\u001b[39;00m is_package(name):  \u001b[39m# installed as package\u001b[39;00m\n\u001b[0;32m--> 465\u001b[0m     \u001b[39mreturn\u001b[39;00m load_model_from_package(name, \u001b[39m*\u001b[39;49m\u001b[39m*\u001b[39;49mkwargs)  \u001b[39m# type: ignore[arg-type]\u001b[39;00m\n\u001b[1;32m    466\u001b[0m \u001b[39mif\u001b[39;00m Path(name)\u001b[39m.\u001b[39mexists():  \u001b[39m# path to model data directory\u001b[39;00m\n\u001b[1;32m    467\u001b[0m     \u001b[39mreturn\u001b[39;00m load_model_from_path(Path(name), \u001b[39m*\u001b[39m\u001b[39m*\u001b[39mkwargs)  \u001b[39m# type: ignore[arg-type]\u001b[39;00m\n",
      "File \u001b[0;32m/opt/miniconda3/envs/mocha/lib/python3.10/site-packages/spacy/util.py:501\u001b[0m, in \u001b[0;36mload_model_from_package\u001b[0;34m(name, vocab, disable, enable, exclude, config)\u001b[0m\n\u001b[1;32m    484\u001b[0m \u001b[39m\u001b[39m\u001b[39m\"\"\"Load a model from an installed package.\u001b[39;00m\n\u001b[1;32m    485\u001b[0m \n\u001b[1;32m    486\u001b[0m \u001b[39mname (str): The package name.\u001b[39;00m\n\u001b[0;32m   (...)\u001b[0m\n\u001b[1;32m    498\u001b[0m \u001b[39mRETURNS (Language): The loaded nlp object.\u001b[39;00m\n\u001b[1;32m    499\u001b[0m \u001b[39m\"\"\"\u001b[39;00m\n\u001b[1;32m    500\u001b[0m \u001b[39mcls\u001b[39m \u001b[39m=\u001b[39m importlib\u001b[39m.\u001b[39mimport_module(name)\n\u001b[0;32m--> 501\u001b[0m \u001b[39mreturn\u001b[39;00m \u001b[39mcls\u001b[39;49m\u001b[39m.\u001b[39;49mload(vocab\u001b[39m=\u001b[39;49mvocab, disable\u001b[39m=\u001b[39;49mdisable, enable\u001b[39m=\u001b[39;49menable, exclude\u001b[39m=\u001b[39;49mexclude, config\u001b[39m=\u001b[39;49mconfig)\n",
      "File \u001b[0;32m~/.local/lib/python3.10/site-packages/en_core_web_trf/__init__.py:10\u001b[0m, in \u001b[0;36mload\u001b[0;34m(**overrides)\u001b[0m\n\u001b[1;32m      9\u001b[0m \u001b[39mdef\u001b[39;00m \u001b[39mload\u001b[39m(\u001b[39m*\u001b[39m\u001b[39m*\u001b[39moverrides):\n\u001b[0;32m---> 10\u001b[0m     \u001b[39mreturn\u001b[39;00m load_model_from_init_py(\u001b[39m__file__\u001b[39;49m, \u001b[39m*\u001b[39;49m\u001b[39m*\u001b[39;49moverrides)\n",
      "File \u001b[0;32m/opt/miniconda3/envs/mocha/lib/python3.10/site-packages/spacy/util.py:682\u001b[0m, in \u001b[0;36mload_model_from_init_py\u001b[0;34m(init_file, vocab, disable, enable, exclude, config)\u001b[0m\n\u001b[1;32m    680\u001b[0m \u001b[39mif\u001b[39;00m \u001b[39mnot\u001b[39;00m model_path\u001b[39m.\u001b[39mexists():\n\u001b[1;32m    681\u001b[0m     \u001b[39mraise\u001b[39;00m \u001b[39mIOError\u001b[39;00m(Errors\u001b[39m.\u001b[39mE052\u001b[39m.\u001b[39mformat(path\u001b[39m=\u001b[39mdata_path))\n\u001b[0;32m--> 682\u001b[0m \u001b[39mreturn\u001b[39;00m load_model_from_path(\n\u001b[1;32m    683\u001b[0m     data_path,\n\u001b[1;32m    684\u001b[0m     vocab\u001b[39m=\u001b[39;49mvocab,\n\u001b[1;32m    685\u001b[0m     meta\u001b[39m=\u001b[39;49mmeta,\n\u001b[1;32m    686\u001b[0m     disable\u001b[39m=\u001b[39;49mdisable,\n\u001b[1;32m    687\u001b[0m     enable\u001b[39m=\u001b[39;49menable,\n\u001b[1;32m    688\u001b[0m     exclude\u001b[39m=\u001b[39;49mexclude,\n\u001b[1;32m    689\u001b[0m     config\u001b[39m=\u001b[39;49mconfig,\n\u001b[1;32m    690\u001b[0m )\n",
      "File \u001b[0;32m/opt/miniconda3/envs/mocha/lib/python3.10/site-packages/spacy/util.py:539\u001b[0m, in \u001b[0;36mload_model_from_path\u001b[0;34m(model_path, meta, vocab, disable, enable, exclude, config)\u001b[0m\n\u001b[1;32m    537\u001b[0m overrides \u001b[39m=\u001b[39m dict_to_dot(config, for_overrides\u001b[39m=\u001b[39m\u001b[39mTrue\u001b[39;00m)\n\u001b[1;32m    538\u001b[0m config \u001b[39m=\u001b[39m load_config(config_path, overrides\u001b[39m=\u001b[39moverrides)\n\u001b[0;32m--> 539\u001b[0m nlp \u001b[39m=\u001b[39m load_model_from_config(\n\u001b[1;32m    540\u001b[0m     config,\n\u001b[1;32m    541\u001b[0m     vocab\u001b[39m=\u001b[39;49mvocab,\n\u001b[1;32m    542\u001b[0m     disable\u001b[39m=\u001b[39;49mdisable,\n\u001b[1;32m    543\u001b[0m     enable\u001b[39m=\u001b[39;49menable,\n\u001b[1;32m    544\u001b[0m     exclude\u001b[39m=\u001b[39;49mexclude,\n\u001b[1;32m    545\u001b[0m     meta\u001b[39m=\u001b[39;49mmeta,\n\u001b[1;32m    546\u001b[0m )\n\u001b[1;32m    547\u001b[0m \u001b[39mreturn\u001b[39;00m nlp\u001b[39m.\u001b[39mfrom_disk(model_path, exclude\u001b[39m=\u001b[39mexclude, overrides\u001b[39m=\u001b[39moverrides)\n",
      "File \u001b[0;32m/opt/miniconda3/envs/mocha/lib/python3.10/site-packages/spacy/util.py:587\u001b[0m, in \u001b[0;36mload_model_from_config\u001b[0;34m(config, meta, vocab, disable, enable, exclude, auto_fill, validate)\u001b[0m\n\u001b[1;32m    584\u001b[0m \u001b[39m# This will automatically handle all codes registered via the languages\u001b[39;00m\n\u001b[1;32m    585\u001b[0m \u001b[39m# registry, including custom subclasses provided via entry points\u001b[39;00m\n\u001b[1;32m    586\u001b[0m lang_cls \u001b[39m=\u001b[39m get_lang_class(nlp_config[\u001b[39m\"\u001b[39m\u001b[39mlang\u001b[39m\u001b[39m\"\u001b[39m])\n\u001b[0;32m--> 587\u001b[0m nlp \u001b[39m=\u001b[39m lang_cls\u001b[39m.\u001b[39;49mfrom_config(\n\u001b[1;32m    588\u001b[0m     config,\n\u001b[1;32m    589\u001b[0m     vocab\u001b[39m=\u001b[39;49mvocab,\n\u001b[1;32m    590\u001b[0m     disable\u001b[39m=\u001b[39;49mdisable,\n\u001b[1;32m    591\u001b[0m     enable\u001b[39m=\u001b[39;49menable,\n\u001b[1;32m    592\u001b[0m     exclude\u001b[39m=\u001b[39;49mexclude,\n\u001b[1;32m    593\u001b[0m     auto_fill\u001b[39m=\u001b[39;49mauto_fill,\n\u001b[1;32m    594\u001b[0m     validate\u001b[39m=\u001b[39;49mvalidate,\n\u001b[1;32m    595\u001b[0m     meta\u001b[39m=\u001b[39;49mmeta,\n\u001b[1;32m    596\u001b[0m )\n\u001b[1;32m    597\u001b[0m \u001b[39mreturn\u001b[39;00m nlp\n",
      "File \u001b[0;32m/opt/miniconda3/envs/mocha/lib/python3.10/site-packages/spacy/language.py:1864\u001b[0m, in \u001b[0;36mLanguage.from_config\u001b[0;34m(cls, config, vocab, disable, enable, exclude, meta, auto_fill, validate)\u001b[0m\n\u001b[1;32m   1861\u001b[0m     factory \u001b[39m=\u001b[39m pipe_cfg\u001b[39m.\u001b[39mpop(\u001b[39m\"\u001b[39m\u001b[39mfactory\u001b[39m\u001b[39m\"\u001b[39m)\n\u001b[1;32m   1862\u001b[0m     \u001b[39m# The pipe name (key in the config) here is the unique name\u001b[39;00m\n\u001b[1;32m   1863\u001b[0m     \u001b[39m# of the component, not necessarily the factory\u001b[39;00m\n\u001b[0;32m-> 1864\u001b[0m     nlp\u001b[39m.\u001b[39;49madd_pipe(\n\u001b[1;32m   1865\u001b[0m         factory,\n\u001b[1;32m   1866\u001b[0m         name\u001b[39m=\u001b[39;49mpipe_name,\n\u001b[1;32m   1867\u001b[0m         config\u001b[39m=\u001b[39;49mpipe_cfg,\n\u001b[1;32m   1868\u001b[0m         validate\u001b[39m=\u001b[39;49mvalidate,\n\u001b[1;32m   1869\u001b[0m         raw_config\u001b[39m=\u001b[39;49mraw_config,\n\u001b[1;32m   1870\u001b[0m     )\n\u001b[1;32m   1871\u001b[0m \u001b[39melse\u001b[39;00m:\n\u001b[1;32m   1872\u001b[0m     \u001b[39massert\u001b[39;00m \u001b[39m\"\u001b[39m\u001b[39msource\u001b[39m\u001b[39m\"\u001b[39m \u001b[39min\u001b[39;00m pipe_cfg\n",
      "File \u001b[0;32m/opt/miniconda3/envs/mocha/lib/python3.10/site-packages/spacy/language.py:821\u001b[0m, in \u001b[0;36mLanguage.add_pipe\u001b[0;34m(self, factory_name, name, before, after, first, last, source, config, raw_config, validate)\u001b[0m\n\u001b[1;32m    817\u001b[0m     pipe_component, factory_name \u001b[39m=\u001b[39m \u001b[39mself\u001b[39m\u001b[39m.\u001b[39mcreate_pipe_from_source(\n\u001b[1;32m    818\u001b[0m         factory_name, source, name\u001b[39m=\u001b[39mname\n\u001b[1;32m    819\u001b[0m     )\n\u001b[1;32m    820\u001b[0m \u001b[39melse\u001b[39;00m:\n\u001b[0;32m--> 821\u001b[0m     pipe_component \u001b[39m=\u001b[39m \u001b[39mself\u001b[39;49m\u001b[39m.\u001b[39;49mcreate_pipe(\n\u001b[1;32m    822\u001b[0m         factory_name,\n\u001b[1;32m    823\u001b[0m         name\u001b[39m=\u001b[39;49mname,\n\u001b[1;32m    824\u001b[0m         config\u001b[39m=\u001b[39;49mconfig,\n\u001b[1;32m    825\u001b[0m         raw_config\u001b[39m=\u001b[39;49mraw_config,\n\u001b[1;32m    826\u001b[0m         validate\u001b[39m=\u001b[39;49mvalidate,\n\u001b[1;32m    827\u001b[0m     )\n\u001b[1;32m    828\u001b[0m pipe_index \u001b[39m=\u001b[39m \u001b[39mself\u001b[39m\u001b[39m.\u001b[39m_get_pipe_index(before, after, first, last)\n\u001b[1;32m    829\u001b[0m \u001b[39mself\u001b[39m\u001b[39m.\u001b[39m_pipe_meta[name] \u001b[39m=\u001b[39m \u001b[39mself\u001b[39m\u001b[39m.\u001b[39mget_factory_meta(factory_name)\n",
      "File \u001b[0;32m/opt/miniconda3/envs/mocha/lib/python3.10/site-packages/spacy/language.py:690\u001b[0m, in \u001b[0;36mLanguage.create_pipe\u001b[0;34m(self, factory_name, name, config, raw_config, validate)\u001b[0m\n\u001b[1;32m    682\u001b[0m \u001b[39mif\u001b[39;00m \u001b[39mnot\u001b[39;00m \u001b[39mself\u001b[39m\u001b[39m.\u001b[39mhas_factory(factory_name):\n\u001b[1;32m    683\u001b[0m     err \u001b[39m=\u001b[39m Errors\u001b[39m.\u001b[39mE002\u001b[39m.\u001b[39mformat(\n\u001b[1;32m    684\u001b[0m         name\u001b[39m=\u001b[39mfactory_name,\n\u001b[1;32m    685\u001b[0m         opts\u001b[39m=\u001b[39m\u001b[39m\"\u001b[39m\u001b[39m, \u001b[39m\u001b[39m\"\u001b[39m\u001b[39m.\u001b[39mjoin(\u001b[39mself\u001b[39m\u001b[39m.\u001b[39mfactory_names),\n\u001b[0;32m   (...)\u001b[0m\n\u001b[1;32m    688\u001b[0m         lang_code\u001b[39m=\u001b[39m\u001b[39mself\u001b[39m\u001b[39m.\u001b[39mlang,\n\u001b[1;32m    689\u001b[0m     )\n\u001b[0;32m--> 690\u001b[0m     \u001b[39mraise\u001b[39;00m \u001b[39mValueError\u001b[39;00m(err)\n\u001b[1;32m    691\u001b[0m pipe_meta \u001b[39m=\u001b[39m \u001b[39mself\u001b[39m\u001b[39m.\u001b[39mget_factory_meta(factory_name)\n\u001b[1;32m    692\u001b[0m \u001b[39m# This is unideal, but the alternative would mean you always need to\u001b[39;00m\n\u001b[1;32m    693\u001b[0m \u001b[39m# specify the full config settings, which is not really viable.\u001b[39;00m\n",
      "\u001b[0;31mValueError\u001b[0m: [E002] Can't find factory for 'curated_transformer' for language English (en). This usually happens when spaCy calls `nlp.create_pipe` with a custom component name that's not registered on the current language class. If you're using a Transformer, make sure to install 'spacy-transformers'. If you're using a custom component, make sure you've added the decorator `@Language.component` (for function components) or `@Language.factory` (for class components).\n\nAvailable factories: attribute_ruler, tok2vec, merge_noun_chunks, merge_entities, merge_subtokens, token_splitter, doc_cleaner, parser, beam_parser, lemmatizer, trainable_lemmatizer, entity_linker, entity_ruler, tagger, morphologizer, ner, beam_ner, senter, sentencizer, spancat, spancat_singlelabel, span_finder, future_entity_ruler, span_ruler, textcat, textcat_multilabel, en.lemmatizer"
     ]
    }
   ],
   "source": [
    "nlp = spacy.load(\"en_core_web_trf\")"
   ]
  },
  {
   "cell_type": "code",
   "execution_count": 17,
   "id": "ed36cb21-8cee-4f8d-9651-409714134304",
   "metadata": {
    "tags": []
   },
   "outputs": [],
   "source": [
    "df_conc = pd.read_excel('../Concreteness_ratings_Brysbaert_et_al_BRM.xlsx')"
   ]
  },
  {
   "cell_type": "code",
   "execution_count": 18,
   "id": "d4683961-1e0f-4d9b-a3ff-16a54ecee3cb",
   "metadata": {
    "tags": []
   },
   "outputs": [],
   "source": [
    "concreteness = df_conc.set_index('Word')['Conc.M'].to_dict()"
   ]
  },
  {
   "cell_type": "code",
   "execution_count": 19,
   "id": "f6338f19-cf7b-4eca-bbd9-4d46016f2ab1",
   "metadata": {
    "tags": []
   },
   "outputs": [],
   "source": [
    "def is_concrete(noun, t=4.5):\n",
    "    if noun in concreteness:\n",
    "        return concreteness[noun] > t\n",
    "    return False"
   ]
  },
  {
   "cell_type": "code",
   "execution_count": 37,
   "id": "6f379645-eead-4a12-93eb-8071e3ad3e74",
   "metadata": {
    "tags": []
   },
   "outputs": [],
   "source": [
    "@lru_cache(maxsize=None)\n",
    "def get_nouns(cap):\n",
    "    doc = nlp(cap.lower())\n",
    "    return {token.lemma_ for token in doc if token.pos_ == 'NOUN'}"
   ]
  },
  {
   "cell_type": "code",
   "execution_count": 39,
   "id": "5d9a9228-25ec-4606-af18-ad58ae2669f0",
   "metadata": {
    "tags": []
   },
   "outputs": [],
   "source": [
    "@lru_cache(maxsize=None)\n",
    "def cap2objs(cap):\n",
    "    nouns = get_nouns(cap)\n",
    "    return {n for n in nouns if is_concrete(n)}"
   ]
  },
  {
   "cell_type": "code",
   "execution_count": 42,
   "id": "1bb314bd-589f-46d1-a60d-801ff9dea354",
   "metadata": {
    "tags": []
   },
   "outputs": [],
   "source": [
    "tqdm.pandas()"
   ]
  },
  {
   "cell_type": "code",
   "execution_count": 15,
   "id": "9c0e5390-3027-47bc-97bc-863826ea7e36",
   "metadata": {
    "tags": []
   },
   "outputs": [],
   "source": [
    "with sqlite3.connect('out.db') as con:\n",
    "    df = pd.read_sql('select * from data', con)"
   ]
  },
  {
   "cell_type": "code",
   "execution_count": 16,
   "id": "c3988560-5353-4819-9f0f-d52ebdf0d08b",
   "metadata": {
    "tags": []
   },
   "outputs": [
    {
     "data": {
      "text/html": [
       "<div>\n",
       "<style scoped>\n",
       "    .dataframe tbody tr th:only-of-type {\n",
       "        vertical-align: middle;\n",
       "    }\n",
       "\n",
       "    .dataframe tbody tr th {\n",
       "        vertical-align: top;\n",
       "    }\n",
       "\n",
       "    .dataframe thead th {\n",
       "        text-align: right;\n",
       "    }\n",
       "</style>\n",
       "<table border=\"1\" class=\"dataframe\">\n",
       "  <thead>\n",
       "    <tr style=\"text-align: right;\">\n",
       "      <th></th>\n",
       "      <th>cap</th>\n",
       "    </tr>\n",
       "  </thead>\n",
       "  <tbody>\n",
       "    <tr>\n",
       "      <th>0</th>\n",
       "      <td>A bride and groom cutting a cake on their wedd...</td>\n",
       "    </tr>\n",
       "    <tr>\n",
       "      <th>1</th>\n",
       "      <td>a mother giving a child a hug.</td>\n",
       "    </tr>\n",
       "    <tr>\n",
       "      <th>2</th>\n",
       "      <td>A woman in a long dress standing with a large ...</td>\n",
       "    </tr>\n",
       "    <tr>\n",
       "      <th>3</th>\n",
       "      <td>A hand is holding a mug of tea on a kitchen co...</td>\n",
       "    </tr>\n",
       "    <tr>\n",
       "      <th>4</th>\n",
       "      <td>a close up of a bowl of pasta with a spoon in it.</td>\n",
       "    </tr>\n",
       "    <tr>\n",
       "      <th>...</th>\n",
       "      <td>...</td>\n",
       "    </tr>\n",
       "    <tr>\n",
       "      <th>135847</th>\n",
       "      <td>an open-air cafe with a few patrons.</td>\n",
       "    </tr>\n",
       "    <tr>\n",
       "      <th>135848</th>\n",
       "      <td>A close-up of a jar of honey and a butter knife.</td>\n",
       "    </tr>\n",
       "    <tr>\n",
       "      <th>135849</th>\n",
       "      <td>A view of a large shelf with numerous food items.</td>\n",
       "    </tr>\n",
       "    <tr>\n",
       "      <th>135850</th>\n",
       "      <td>A close-up of three colorful glasses of juice.</td>\n",
       "    </tr>\n",
       "    <tr>\n",
       "      <th>135851</th>\n",
       "      <td>A close-up of a pair of nail clippers on a woo...</td>\n",
       "    </tr>\n",
       "  </tbody>\n",
       "</table>\n",
       "<p>135852 rows × 1 columns</p>\n",
       "</div>"
      ],
      "text/plain": [
       "                                                      cap\n",
       "0       A bride and groom cutting a cake on their wedd...\n",
       "1                          a mother giving a child a hug.\n",
       "2       A woman in a long dress standing with a large ...\n",
       "3       A hand is holding a mug of tea on a kitchen co...\n",
       "4       a close up of a bowl of pasta with a spoon in it.\n",
       "...                                                   ...\n",
       "135847               an open-air cafe with a few patrons.\n",
       "135848   A close-up of a jar of honey and a butter knife.\n",
       "135849  A view of a large shelf with numerous food items.\n",
       "135850     A close-up of three colorful glasses of juice.\n",
       "135851  A close-up of a pair of nail clippers on a woo...\n",
       "\n",
       "[135852 rows x 1 columns]"
      ]
     },
     "execution_count": 16,
     "metadata": {},
     "output_type": "execute_result"
    }
   ],
   "source": [
    "df"
   ]
  },
  {
   "cell_type": "code",
   "execution_count": 172,
   "id": "6953d670-fe26-4d0b-8bc9-37108d6c6cf5",
   "metadata": {
    "tags": []
   },
   "outputs": [
    {
     "data": {
      "application/vnd.jupyter.widget-view+json": {
       "model_id": "c7917557d1024cecb3de488d70a93a87",
       "version_major": 2,
       "version_minor": 0
      },
      "text/plain": [
       "  0%|          | 0/135852 [00:00<?, ?it/s]"
      ]
     },
     "metadata": {},
     "output_type": "display_data"
    }
   ],
   "source": [
    "df['nouns'] = df.cap.progress_apply(get_nouns)"
   ]
  },
  {
   "cell_type": "code",
   "execution_count": 173,
   "id": "07b2cc8b-08ad-4dcd-ba26-9c2adb2c709a",
   "metadata": {
    "tags": []
   },
   "outputs": [
    {
     "data": {
      "application/vnd.jupyter.widget-view+json": {
       "model_id": "ef355490db6a44bab3b712f84a8ae207",
       "version_major": 2,
       "version_minor": 0
      },
      "text/plain": [
       "  0%|          | 0/135852 [00:00<?, ?it/s]"
      ]
     },
     "metadata": {},
     "output_type": "display_data"
    }
   ],
   "source": [
    "df['objs'] = df.cap.progress_apply(cap2objs)"
   ]
  },
  {
   "cell_type": "code",
   "execution_count": 174,
   "id": "aad7c239-cb09-4d8d-8c59-ef8ddbea810d",
   "metadata": {
    "tags": []
   },
   "outputs": [],
   "source": [
    "df['n_objs'] = df.objs.str.len()"
   ]
  },
  {
   "cell_type": "code",
   "execution_count": 175,
   "id": "d3e26809-2dcc-4c2c-9e5f-f3e2126a40ec",
   "metadata": {
    "tags": []
   },
   "outputs": [
    {
     "data": {
      "text/html": [
       "<div>\n",
       "<style scoped>\n",
       "    .dataframe tbody tr th:only-of-type {\n",
       "        vertical-align: middle;\n",
       "    }\n",
       "\n",
       "    .dataframe tbody tr th {\n",
       "        vertical-align: top;\n",
       "    }\n",
       "\n",
       "    .dataframe thead th {\n",
       "        text-align: right;\n",
       "    }\n",
       "</style>\n",
       "<table border=\"1\" class=\"dataframe\">\n",
       "  <thead>\n",
       "    <tr style=\"text-align: right;\">\n",
       "      <th></th>\n",
       "      <th>cap</th>\n",
       "      <th>nouns</th>\n",
       "      <th>objs</th>\n",
       "      <th>n_objs</th>\n",
       "    </tr>\n",
       "  </thead>\n",
       "  <tbody>\n",
       "    <tr>\n",
       "      <th>0</th>\n",
       "      <td>A bride and groom cutting a cake on their wedd...</td>\n",
       "      <td>{bride, day, cake, groom, wedding}</td>\n",
       "      <td>{bride, groom, cake}</td>\n",
       "      <td>3</td>\n",
       "    </tr>\n",
       "    <tr>\n",
       "      <th>1</th>\n",
       "      <td>a mother giving a child a hug.</td>\n",
       "      <td>{child, mother, hug}</td>\n",
       "      <td>{mother, child}</td>\n",
       "      <td>2</td>\n",
       "    </tr>\n",
       "    <tr>\n",
       "      <th>2</th>\n",
       "      <td>A woman in a long dress standing with a large ...</td>\n",
       "      <td>{woman, tree, dress}</td>\n",
       "      <td>{tree, dress}</td>\n",
       "      <td>2</td>\n",
       "    </tr>\n",
       "    <tr>\n",
       "      <th>3</th>\n",
       "      <td>A hand is holding a mug of tea on a kitchen co...</td>\n",
       "      <td>{kitchen, hand, mug, counter, tea}</td>\n",
       "      <td>{hand, kitchen, tea, mug}</td>\n",
       "      <td>4</td>\n",
       "    </tr>\n",
       "    <tr>\n",
       "      <th>4</th>\n",
       "      <td>a close up of a bowl of pasta with a spoon in it.</td>\n",
       "      <td>{pasta, bowl, spoon, close}</td>\n",
       "      <td>{pasta, bowl, spoon}</td>\n",
       "      <td>3</td>\n",
       "    </tr>\n",
       "    <tr>\n",
       "      <th>...</th>\n",
       "      <td>...</td>\n",
       "      <td>...</td>\n",
       "      <td>...</td>\n",
       "      <td>...</td>\n",
       "    </tr>\n",
       "    <tr>\n",
       "      <th>135847</th>\n",
       "      <td>an open-air cafe with a few patrons.</td>\n",
       "      <td>{cafe, patron, air}</td>\n",
       "      <td>{cafe}</td>\n",
       "      <td>1</td>\n",
       "    </tr>\n",
       "    <tr>\n",
       "      <th>135848</th>\n",
       "      <td>A close-up of a jar of honey and a butter knife.</td>\n",
       "      <td>{knife, honey, butter, up, jar, close}</td>\n",
       "      <td>{jar, honey, knife, butter}</td>\n",
       "      <td>4</td>\n",
       "    </tr>\n",
       "    <tr>\n",
       "      <th>135849</th>\n",
       "      <td>A view of a large shelf with numerous food items.</td>\n",
       "      <td>{item, shelf, view, food}</td>\n",
       "      <td>{shelf, food}</td>\n",
       "      <td>2</td>\n",
       "    </tr>\n",
       "    <tr>\n",
       "      <th>135850</th>\n",
       "      <td>A close-up of three colorful glasses of juice.</td>\n",
       "      <td>{up, juice, close, glass}</td>\n",
       "      <td>{juice, glass}</td>\n",
       "      <td>2</td>\n",
       "    </tr>\n",
       "    <tr>\n",
       "      <th>135851</th>\n",
       "      <td>A close-up of a pair of nail clippers on a woo...</td>\n",
       "      <td>{pair, surface, nail, clipper, up, close}</td>\n",
       "      <td>{nail}</td>\n",
       "      <td>1</td>\n",
       "    </tr>\n",
       "  </tbody>\n",
       "</table>\n",
       "<p>135852 rows × 4 columns</p>\n",
       "</div>"
      ],
      "text/plain": [
       "                                                      cap  \\\n",
       "0       A bride and groom cutting a cake on their wedd...   \n",
       "1                          a mother giving a child a hug.   \n",
       "2       A woman in a long dress standing with a large ...   \n",
       "3       A hand is holding a mug of tea on a kitchen co...   \n",
       "4       a close up of a bowl of pasta with a spoon in it.   \n",
       "...                                                   ...   \n",
       "135847               an open-air cafe with a few patrons.   \n",
       "135848   A close-up of a jar of honey and a butter knife.   \n",
       "135849  A view of a large shelf with numerous food items.   \n",
       "135850     A close-up of three colorful glasses of juice.   \n",
       "135851  A close-up of a pair of nail clippers on a woo...   \n",
       "\n",
       "                                            nouns  \\\n",
       "0              {bride, day, cake, groom, wedding}   \n",
       "1                            {child, mother, hug}   \n",
       "2                            {woman, tree, dress}   \n",
       "3              {kitchen, hand, mug, counter, tea}   \n",
       "4                     {pasta, bowl, spoon, close}   \n",
       "...                                           ...   \n",
       "135847                        {cafe, patron, air}   \n",
       "135848     {knife, honey, butter, up, jar, close}   \n",
       "135849                  {item, shelf, view, food}   \n",
       "135850                  {up, juice, close, glass}   \n",
       "135851  {pair, surface, nail, clipper, up, close}   \n",
       "\n",
       "                               objs  n_objs  \n",
       "0              {bride, groom, cake}       3  \n",
       "1                   {mother, child}       2  \n",
       "2                     {tree, dress}       2  \n",
       "3         {hand, kitchen, tea, mug}       4  \n",
       "4              {pasta, bowl, spoon}       3  \n",
       "...                             ...     ...  \n",
       "135847                       {cafe}       1  \n",
       "135848  {jar, honey, knife, butter}       4  \n",
       "135849                {shelf, food}       2  \n",
       "135850               {juice, glass}       2  \n",
       "135851                       {nail}       1  \n",
       "\n",
       "[135852 rows x 4 columns]"
      ]
     },
     "execution_count": 175,
     "metadata": {},
     "output_type": "execute_result"
    }
   ],
   "source": [
    "df"
   ]
  },
  {
   "cell_type": "code",
   "execution_count": 176,
   "id": "42b6236b-fde2-4ab8-b619-fd29dfe9748c",
   "metadata": {
    "tags": []
   },
   "outputs": [
    {
     "data": {
      "text/plain": [
       "2401"
      ]
     },
     "execution_count": 176,
     "metadata": {},
     "output_type": "execute_result"
    }
   ],
   "source": [
    "len(set.union(*df.objs))"
   ]
  },
  {
   "cell_type": "code",
   "execution_count": 177,
   "id": "a068f035-2172-442f-a5f5-9fc9f716d02d",
   "metadata": {
    "tags": []
   },
   "outputs": [
    {
     "data": {
      "text/html": [
       "<div>\n",
       "<style scoped>\n",
       "    .dataframe tbody tr th:only-of-type {\n",
       "        vertical-align: middle;\n",
       "    }\n",
       "\n",
       "    .dataframe tbody tr th {\n",
       "        vertical-align: top;\n",
       "    }\n",
       "\n",
       "    .dataframe thead th {\n",
       "        text-align: right;\n",
       "    }\n",
       "</style>\n",
       "<table border=\"1\" class=\"dataframe\">\n",
       "  <thead>\n",
       "    <tr style=\"text-align: right;\">\n",
       "      <th></th>\n",
       "      <th>cap</th>\n",
       "      <th>nouns</th>\n",
       "      <th>objs</th>\n",
       "      <th>n_objs</th>\n",
       "    </tr>\n",
       "  </thead>\n",
       "  <tbody>\n",
       "    <tr>\n",
       "      <th>114357</th>\n",
       "      <td>A group of people are hiking through a forest.</td>\n",
       "      <td>{people, group, forest}</td>\n",
       "      <td>{people, forest}</td>\n",
       "      <td>2</td>\n",
       "    </tr>\n",
       "    <tr>\n",
       "      <th>90656</th>\n",
       "      <td>Two men are riding a motorcycle together in th...</td>\n",
       "      <td>{winter, motorcycle, man}</td>\n",
       "      <td>{motorcycle, man}</td>\n",
       "      <td>2</td>\n",
       "    </tr>\n",
       "    <tr>\n",
       "      <th>118006</th>\n",
       "      <td>A group of red-green-blue trolls are standing ...</td>\n",
       "      <td>{unicorn, troll, group}</td>\n",
       "      <td>{}</td>\n",
       "      <td>0</td>\n",
       "    </tr>\n",
       "    <tr>\n",
       "      <th>37044</th>\n",
       "      <td>A pile of red tomatoes on a wooden surface.</td>\n",
       "      <td>{surface, tomato, pile}</td>\n",
       "      <td>{tomato, pile}</td>\n",
       "      <td>2</td>\n",
       "    </tr>\n",
       "    <tr>\n",
       "      <th>104681</th>\n",
       "      <td>a large variety of fruit hanging from a tree.</td>\n",
       "      <td>{tree, fruit, variety}</td>\n",
       "      <td>{tree, fruit}</td>\n",
       "      <td>2</td>\n",
       "    </tr>\n",
       "    <tr>\n",
       "      <th>12708</th>\n",
       "      <td>A large, bearded man is shown holding a wooden...</td>\n",
       "      <td>{sword, man, shore}</td>\n",
       "      <td>{sword, man, shore}</td>\n",
       "      <td>3</td>\n",
       "    </tr>\n",
       "    <tr>\n",
       "      <th>21566</th>\n",
       "      <td>a stack of papers with a pair of scissors stuc...</td>\n",
       "      <td>{scissor, pair, paper, middle, stack}</td>\n",
       "      <td>{scissor, paper}</td>\n",
       "      <td>2</td>\n",
       "    </tr>\n",
       "    <tr>\n",
       "      <th>45963</th>\n",
       "      <td>A pair of binoculars is being held by a man.</td>\n",
       "      <td>{pair, binocular, man}</td>\n",
       "      <td>{man}</td>\n",
       "      <td>1</td>\n",
       "    </tr>\n",
       "    <tr>\n",
       "      <th>12600</th>\n",
       "      <td>A close up of a red flower growing on a tree.</td>\n",
       "      <td>{tree, close, flower}</td>\n",
       "      <td>{tree, flower}</td>\n",
       "      <td>2</td>\n",
       "    </tr>\n",
       "    <tr>\n",
       "      <th>129527</th>\n",
       "      <td>A man holding a fishing rod while standing in ...</td>\n",
       "      <td>{man, fishing, water, rod, beach}</td>\n",
       "      <td>{water, beach, man}</td>\n",
       "      <td>3</td>\n",
       "    </tr>\n",
       "  </tbody>\n",
       "</table>\n",
       "</div>"
      ],
      "text/plain": [
       "                                                      cap  \\\n",
       "114357     A group of people are hiking through a forest.   \n",
       "90656   Two men are riding a motorcycle together in th...   \n",
       "118006  A group of red-green-blue trolls are standing ...   \n",
       "37044         A pile of red tomatoes on a wooden surface.   \n",
       "104681      a large variety of fruit hanging from a tree.   \n",
       "12708   A large, bearded man is shown holding a wooden...   \n",
       "21566   a stack of papers with a pair of scissors stuc...   \n",
       "45963        A pair of binoculars is being held by a man.   \n",
       "12600       A close up of a red flower growing on a tree.   \n",
       "129527  A man holding a fishing rod while standing in ...   \n",
       "\n",
       "                                        nouns                 objs  n_objs  \n",
       "114357                {people, group, forest}     {people, forest}       2  \n",
       "90656               {winter, motorcycle, man}    {motorcycle, man}       2  \n",
       "118006                {unicorn, troll, group}                   {}       0  \n",
       "37044                 {surface, tomato, pile}       {tomato, pile}       2  \n",
       "104681                 {tree, fruit, variety}        {tree, fruit}       2  \n",
       "12708                     {sword, man, shore}  {sword, man, shore}       3  \n",
       "21566   {scissor, pair, paper, middle, stack}     {scissor, paper}       2  \n",
       "45963                  {pair, binocular, man}                {man}       1  \n",
       "12600                   {tree, close, flower}       {tree, flower}       2  \n",
       "129527      {man, fishing, water, rod, beach}  {water, beach, man}       3  "
      ]
     },
     "execution_count": 177,
     "metadata": {},
     "output_type": "execute_result"
    }
   ],
   "source": [
    "df.sample(10)"
   ]
  },
  {
   "cell_type": "code",
   "execution_count": 178,
   "id": "a69e6621-759c-4f13-9bd3-0f10837494fa",
   "metadata": {
    "tags": []
   },
   "outputs": [],
   "source": [
    "c = Counter(obj for x in df.objs for obj in x)"
   ]
  },
  {
   "cell_type": "code",
   "execution_count": 179,
   "id": "6f4b7971-32d8-44e5-9325-1da01d9b807e",
   "metadata": {
    "tags": []
   },
   "outputs": [],
   "source": [
    "df_ = df[df.n_objs > 0].copy()\n",
    "df_['min_count'] = df_.objs.apply(lambda x: min(c[y] for y in x))\n",
    "df_ = df_.sort_values(by='min_count')"
   ]
  },
  {
   "cell_type": "code",
   "execution_count": 180,
   "id": "6ea17480-bda6-4ffc-b59f-7e780cae966a",
   "metadata": {
    "tags": []
   },
   "outputs": [
    {
     "data": {
      "text/html": [
       "<div>\n",
       "<style scoped>\n",
       "    .dataframe tbody tr th:only-of-type {\n",
       "        vertical-align: middle;\n",
       "    }\n",
       "\n",
       "    .dataframe tbody tr th {\n",
       "        vertical-align: top;\n",
       "    }\n",
       "\n",
       "    .dataframe thead th {\n",
       "        text-align: right;\n",
       "    }\n",
       "</style>\n",
       "<table border=\"1\" class=\"dataframe\">\n",
       "  <thead>\n",
       "    <tr style=\"text-align: right;\">\n",
       "      <th></th>\n",
       "      <th>cap</th>\n",
       "      <th>nouns</th>\n",
       "      <th>objs</th>\n",
       "      <th>n_objs</th>\n",
       "      <th>min_count</th>\n",
       "    </tr>\n",
       "  </thead>\n",
       "  <tbody>\n",
       "    <tr>\n",
       "      <th>122511</th>\n",
       "      <td>A bee is chasing a wasp away from a flower.</td>\n",
       "      <td>{bee, flower, wasp}</td>\n",
       "      <td>{bee, flower, wasp}</td>\n",
       "      <td>3</td>\n",
       "      <td>1</td>\n",
       "    </tr>\n",
       "    <tr>\n",
       "      <th>108091</th>\n",
       "      <td>A man in the process of loading a cartridge in...</td>\n",
       "      <td>{cartridge, process, man, rifle}</td>\n",
       "      <td>{cartridge, rifle, man}</td>\n",
       "      <td>3</td>\n",
       "      <td>1</td>\n",
       "    </tr>\n",
       "    <tr>\n",
       "      <th>104130</th>\n",
       "      <td>A woman with a handful of tapioca pearls holds...</td>\n",
       "      <td>{woman, tea, handful, bubble, tapioca, cup, pe...</td>\n",
       "      <td>{tea, bubble, tapioca, cup, pearl}</td>\n",
       "      <td>5</td>\n",
       "      <td>1</td>\n",
       "    </tr>\n",
       "    <tr>\n",
       "      <th>127135</th>\n",
       "      <td>A computer server with a plywood cover, with t...</td>\n",
       "      <td>{plywood, server, wire, cover, computer}</td>\n",
       "      <td>{computer, plywood, server, wire}</td>\n",
       "      <td>4</td>\n",
       "      <td>1</td>\n",
       "    </tr>\n",
       "    <tr>\n",
       "      <th>91366</th>\n",
       "      <td>A lab with a computer and an oscilloscope.</td>\n",
       "      <td>{computer, oscilloscope, lab}</td>\n",
       "      <td>{computer, oscilloscope, lab}</td>\n",
       "      <td>3</td>\n",
       "      <td>1</td>\n",
       "    </tr>\n",
       "    <tr>\n",
       "      <th>...</th>\n",
       "      <td>...</td>\n",
       "      <td>...</td>\n",
       "      <td>...</td>\n",
       "      <td>...</td>\n",
       "      <td>...</td>\n",
       "    </tr>\n",
       "    <tr>\n",
       "      <th>29566</th>\n",
       "      <td>A man is about to shoot a canonball.</td>\n",
       "      <td>{canonball, man}</td>\n",
       "      <td>{man}</td>\n",
       "      <td>1</td>\n",
       "      <td>28513</td>\n",
       "    </tr>\n",
       "    <tr>\n",
       "      <th>74915</th>\n",
       "      <td>A man and a woman dressed as business executives.</td>\n",
       "      <td>{woman, executive, business, man}</td>\n",
       "      <td>{man}</td>\n",
       "      <td>1</td>\n",
       "      <td>28513</td>\n",
       "    </tr>\n",
       "    <tr>\n",
       "      <th>74889</th>\n",
       "      <td>The profile of a young man smiling.</td>\n",
       "      <td>{man, profile}</td>\n",
       "      <td>{man}</td>\n",
       "      <td>1</td>\n",
       "      <td>28513</td>\n",
       "    </tr>\n",
       "    <tr>\n",
       "      <th>54416</th>\n",
       "      <td>A man and a woman are hugging tightly.</td>\n",
       "      <td>{woman, man}</td>\n",
       "      <td>{man}</td>\n",
       "      <td>1</td>\n",
       "      <td>28513</td>\n",
       "    </tr>\n",
       "    <tr>\n",
       "      <th>7861</th>\n",
       "      <td>A shy man sitting next to his crush.</td>\n",
       "      <td>{crush, man}</td>\n",
       "      <td>{man}</td>\n",
       "      <td>1</td>\n",
       "      <td>28513</td>\n",
       "    </tr>\n",
       "  </tbody>\n",
       "</table>\n",
       "<p>132116 rows × 5 columns</p>\n",
       "</div>"
      ],
      "text/plain": [
       "                                                      cap  \\\n",
       "122511        A bee is chasing a wasp away from a flower.   \n",
       "108091  A man in the process of loading a cartridge in...   \n",
       "104130  A woman with a handful of tapioca pearls holds...   \n",
       "127135  A computer server with a plywood cover, with t...   \n",
       "91366          A lab with a computer and an oscilloscope.   \n",
       "...                                                   ...   \n",
       "29566                A man is about to shoot a canonball.   \n",
       "74915   A man and a woman dressed as business executives.   \n",
       "74889                 The profile of a young man smiling.   \n",
       "54416              A man and a woman are hugging tightly.   \n",
       "7861                 A shy man sitting next to his crush.   \n",
       "\n",
       "                                                    nouns  \\\n",
       "122511                                {bee, flower, wasp}   \n",
       "108091                   {cartridge, process, man, rifle}   \n",
       "104130  {woman, tea, handful, bubble, tapioca, cup, pe...   \n",
       "127135           {plywood, server, wire, cover, computer}   \n",
       "91366                       {computer, oscilloscope, lab}   \n",
       "...                                                   ...   \n",
       "29566                                    {canonball, man}   \n",
       "74915                   {woman, executive, business, man}   \n",
       "74889                                      {man, profile}   \n",
       "54416                                        {woman, man}   \n",
       "7861                                         {crush, man}   \n",
       "\n",
       "                                      objs  n_objs  min_count  \n",
       "122511                 {bee, flower, wasp}       3          1  \n",
       "108091             {cartridge, rifle, man}       3          1  \n",
       "104130  {tea, bubble, tapioca, cup, pearl}       5          1  \n",
       "127135   {computer, plywood, server, wire}       4          1  \n",
       "91366        {computer, oscilloscope, lab}       3          1  \n",
       "...                                    ...     ...        ...  \n",
       "29566                                {man}       1      28513  \n",
       "74915                                {man}       1      28513  \n",
       "74889                                {man}       1      28513  \n",
       "54416                                {man}       1      28513  \n",
       "7861                                 {man}       1      28513  \n",
       "\n",
       "[132116 rows x 5 columns]"
      ]
     },
     "execution_count": 180,
     "metadata": {},
     "output_type": "execute_result"
    }
   ],
   "source": [
    "df_"
   ]
  },
  {
   "cell_type": "code",
   "execution_count": 181,
   "id": "52f6086f-ddd3-492f-ad25-238efe5da8c9",
   "metadata": {
    "tags": []
   },
   "outputs": [],
   "source": [
    "df_small = df_.head(len(df_) // 10)"
   ]
  },
  {
   "cell_type": "code",
   "execution_count": 182,
   "id": "15769b99-a05e-42ae-ac4c-ef7952ab2272",
   "metadata": {
    "tags": []
   },
   "outputs": [
    {
     "data": {
      "text/plain": [
       "13211"
      ]
     },
     "execution_count": 182,
     "metadata": {},
     "output_type": "execute_result"
    }
   ],
   "source": [
    "len(df_small)"
   ]
  },
  {
   "cell_type": "code",
   "execution_count": 183,
   "id": "a79056d6-33a0-4403-960c-e3bbc0227758",
   "metadata": {
    "tags": []
   },
   "outputs": [
    {
     "data": {
      "text/html": [
       "<div>\n",
       "<style scoped>\n",
       "    .dataframe tbody tr th:only-of-type {\n",
       "        vertical-align: middle;\n",
       "    }\n",
       "\n",
       "    .dataframe tbody tr th {\n",
       "        vertical-align: top;\n",
       "    }\n",
       "\n",
       "    .dataframe thead th {\n",
       "        text-align: right;\n",
       "    }\n",
       "</style>\n",
       "<table border=\"1\" class=\"dataframe\">\n",
       "  <thead>\n",
       "    <tr style=\"text-align: right;\">\n",
       "      <th></th>\n",
       "      <th>cap</th>\n",
       "      <th>nouns</th>\n",
       "      <th>objs</th>\n",
       "      <th>n_objs</th>\n",
       "      <th>min_count</th>\n",
       "    </tr>\n",
       "  </thead>\n",
       "  <tbody>\n",
       "    <tr>\n",
       "      <th>55999</th>\n",
       "      <td>A vaulted cellar filled with barrelled wine.</td>\n",
       "      <td>{wine, cellar}</td>\n",
       "      <td>{wine, cellar}</td>\n",
       "      <td>2</td>\n",
       "      <td>22</td>\n",
       "    </tr>\n",
       "    <tr>\n",
       "      <th>108417</th>\n",
       "      <td>A skier in head-to-toe snow gear is posing for...</td>\n",
       "      <td>{head, snow, skier, gear, toe, photo}</td>\n",
       "      <td>{snow, toe, head, photo}</td>\n",
       "      <td>4</td>\n",
       "      <td>15</td>\n",
       "    </tr>\n",
       "    <tr>\n",
       "      <th>66173</th>\n",
       "      <td>A closeup of a woman's face with a black eye a...</td>\n",
       "      <td>{woman, face, closeup, eye, bandage}</td>\n",
       "      <td>{eye, bandage, face}</td>\n",
       "      <td>3</td>\n",
       "      <td>20</td>\n",
       "    </tr>\n",
       "    <tr>\n",
       "      <th>74741</th>\n",
       "      <td>Focused lights on a road through the mist.</td>\n",
       "      <td>{mist, light, road}</td>\n",
       "      <td>{mist, road}</td>\n",
       "      <td>2</td>\n",
       "      <td>20</td>\n",
       "    </tr>\n",
       "    <tr>\n",
       "      <th>70817</th>\n",
       "      <td>The hanging tapestry displays a variety of geo...</td>\n",
       "      <td>{pattern, shape, tapestry, variety}</td>\n",
       "      <td>{tapestry}</td>\n",
       "      <td>1</td>\n",
       "      <td>18</td>\n",
       "    </tr>\n",
       "    <tr>\n",
       "      <th>83458</th>\n",
       "      <td>An attractive blonde with a red shirt and a po...</td>\n",
       "      <td>{ponytail, shirt, blonde}</td>\n",
       "      <td>{ponytail, shirt, blonde}</td>\n",
       "      <td>3</td>\n",
       "      <td>6</td>\n",
       "    </tr>\n",
       "    <tr>\n",
       "      <th>21111</th>\n",
       "      <td>A bunch of different sized shrimp in a container.</td>\n",
       "      <td>{shrimp, container, bunch}</td>\n",
       "      <td>{shrimp, container}</td>\n",
       "      <td>2</td>\n",
       "      <td>33</td>\n",
       "    </tr>\n",
       "    <tr>\n",
       "      <th>105685</th>\n",
       "      <td>A vintage telegram is shown.</td>\n",
       "      <td>{telegram}</td>\n",
       "      <td>{telegram}</td>\n",
       "      <td>1</td>\n",
       "      <td>2</td>\n",
       "    </tr>\n",
       "    <tr>\n",
       "      <th>65950</th>\n",
       "      <td>A man is holding a pair of horseshoes up close.</td>\n",
       "      <td>{pair, horseshoe, man}</td>\n",
       "      <td>{horseshoe, man}</td>\n",
       "      <td>2</td>\n",
       "      <td>12</td>\n",
       "    </tr>\n",
       "    <tr>\n",
       "      <th>114368</th>\n",
       "      <td>A child with a bandage over his head being hel...</td>\n",
       "      <td>{adult, child, bandage, head}</td>\n",
       "      <td>{child, bandage, head}</td>\n",
       "      <td>3</td>\n",
       "      <td>20</td>\n",
       "    </tr>\n",
       "  </tbody>\n",
       "</table>\n",
       "</div>"
      ],
      "text/plain": [
       "                                                      cap  \\\n",
       "55999        A vaulted cellar filled with barrelled wine.   \n",
       "108417  A skier in head-to-toe snow gear is posing for...   \n",
       "66173   A closeup of a woman's face with a black eye a...   \n",
       "74741          Focused lights on a road through the mist.   \n",
       "70817   The hanging tapestry displays a variety of geo...   \n",
       "83458   An attractive blonde with a red shirt and a po...   \n",
       "21111   A bunch of different sized shrimp in a container.   \n",
       "105685                       A vintage telegram is shown.   \n",
       "65950     A man is holding a pair of horseshoes up close.   \n",
       "114368  A child with a bandage over his head being hel...   \n",
       "\n",
       "                                        nouns                       objs  \\\n",
       "55999                          {wine, cellar}             {wine, cellar}   \n",
       "108417  {head, snow, skier, gear, toe, photo}   {snow, toe, head, photo}   \n",
       "66173    {woman, face, closeup, eye, bandage}       {eye, bandage, face}   \n",
       "74741                     {mist, light, road}               {mist, road}   \n",
       "70817     {pattern, shape, tapestry, variety}                 {tapestry}   \n",
       "83458               {ponytail, shirt, blonde}  {ponytail, shirt, blonde}   \n",
       "21111              {shrimp, container, bunch}        {shrimp, container}   \n",
       "105685                             {telegram}                 {telegram}   \n",
       "65950                  {pair, horseshoe, man}           {horseshoe, man}   \n",
       "114368          {adult, child, bandage, head}     {child, bandage, head}   \n",
       "\n",
       "        n_objs  min_count  \n",
       "55999        2         22  \n",
       "108417       4         15  \n",
       "66173        3         20  \n",
       "74741        2         20  \n",
       "70817        1         18  \n",
       "83458        3          6  \n",
       "21111        2         33  \n",
       "105685       1          2  \n",
       "65950        2         12  \n",
       "114368       3         20  "
      ]
     },
     "execution_count": 183,
     "metadata": {},
     "output_type": "execute_result"
    }
   ],
   "source": [
    "df_small.sample(10)"
   ]
  },
  {
   "cell_type": "code",
   "execution_count": 184,
   "id": "333f17e8-4263-4391-9a3d-1719aed29e6e",
   "metadata": {},
   "outputs": [
    {
     "data": {
      "text/plain": [
       "cap\n",
       "A giant joystick is being maneuvered by a player.                         7\n",
       "A woman standing in a field flying a hawk.                                6\n",
       "An open satchel filled with a variety of snacks.                          4\n",
       "A cowboy riding a bucking bronco.                                         4\n",
       "A man is using a chainsaw to cut down a large tree.                       3\n",
       "                                                                         ..\n",
       "a group of people enjoying the outdoors                                   1\n",
       "the interior of a car, showing the dashboard and the instrument panel.    1\n",
       "A picture of a man's face on a postage stamp.                             1\n",
       "A girl is lying on a bed, showing her little breasts.                     1\n",
       "An aerial shot of a large ship in a harbor.                               1\n",
       "Name: count, Length: 13158, dtype: int64"
      ]
     },
     "execution_count": 184,
     "metadata": {},
     "output_type": "execute_result"
    }
   ],
   "source": [
    "df_small.cap.value_counts()"
   ]
  },
  {
   "cell_type": "code",
   "execution_count": null,
   "id": "634ac001-d677-4fc3-89fe-eed184324a85",
   "metadata": {},
   "outputs": [],
   "source": []
  },
  {
   "cell_type": "code",
   "execution_count": null,
   "id": "bb30cd0e-4d1f-4286-96db-cc5cd9ab7496",
   "metadata": {},
   "outputs": [],
   "source": []
  }
 ],
 "metadata": {
  "kernelspec": {
   "display_name": "Python 3 (ipykernel)",
   "language": "python",
   "name": "python3"
  },
  "language_info": {
   "codemirror_mode": {
    "name": "ipython",
    "version": 3
   },
   "file_extension": ".py",
   "mimetype": "text/x-python",
   "name": "python",
   "nbconvert_exporter": "python",
   "pygments_lexer": "ipython3",
   "version": "3.10.13"
  }
 },
 "nbformat": 4,
 "nbformat_minor": 5
}
